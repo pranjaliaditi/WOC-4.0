{
 "cells": [
  {
   "cell_type": "code",
   "execution_count": 1,
   "id": "66348be6",
   "metadata": {},
   "outputs": [],
   "source": [
    "import numpy as np\n",
    "import pandas as pd\n",
    "import matplotlib.pyplot as plt"
   ]
  },
  {
   "cell_type": "code",
   "execution_count": 2,
   "id": "8214a5dc",
   "metadata": {},
   "outputs": [],
   "source": [
    "train = pd.read_csv(r\"C:\\Users\\91892\\Downloads\\Polynomial_train.csv\")\n",
    "test = pd.read_csv(r\"C:\\Users\\91892\\Downloads\\Polynomial_test.csv\")"
   ]
  },
  {
   "cell_type": "code",
   "execution_count": 3,
   "id": "8be236a4",
   "metadata": {},
   "outputs": [
    {
     "data": {
      "text/html": [
       "<div>\n",
       "<style scoped>\n",
       "    .dataframe tbody tr th:only-of-type {\n",
       "        vertical-align: middle;\n",
       "    }\n",
       "\n",
       "    .dataframe tbody tr th {\n",
       "        vertical-align: top;\n",
       "    }\n",
       "\n",
       "    .dataframe thead th {\n",
       "        text-align: right;\n",
       "    }\n",
       "</style>\n",
       "<table border=\"1\" class=\"dataframe\">\n",
       "  <thead>\n",
       "    <tr style=\"text-align: right;\">\n",
       "      <th></th>\n",
       "      <th>X</th>\n",
       "      <th>Y</th>\n",
       "      <th>Z</th>\n",
       "      <th>label</th>\n",
       "    </tr>\n",
       "  </thead>\n",
       "  <tbody>\n",
       "    <tr>\n",
       "      <th>0</th>\n",
       "      <td>0.643715</td>\n",
       "      <td>-9.866550</td>\n",
       "      <td>-5.836019</td>\n",
       "      <td>307.972927</td>\n",
       "    </tr>\n",
       "    <tr>\n",
       "      <th>1</th>\n",
       "      <td>-1.366446</td>\n",
       "      <td>-3.761945</td>\n",
       "      <td>-8.756162</td>\n",
       "      <td>136.398375</td>\n",
       "    </tr>\n",
       "    <tr>\n",
       "      <th>2</th>\n",
       "      <td>-4.090270</td>\n",
       "      <td>-1.836218</td>\n",
       "      <td>-1.846066</td>\n",
       "      <td>-310.724813</td>\n",
       "    </tr>\n",
       "    <tr>\n",
       "      <th>3</th>\n",
       "      <td>-8.730478</td>\n",
       "      <td>-1.923651</td>\n",
       "      <td>3.892972</td>\n",
       "      <td>1.755447</td>\n",
       "    </tr>\n",
       "    <tr>\n",
       "      <th>4</th>\n",
       "      <td>5.367169</td>\n",
       "      <td>0.358357</td>\n",
       "      <td>6.703989</td>\n",
       "      <td>-343.582590</td>\n",
       "    </tr>\n",
       "    <tr>\n",
       "      <th>...</th>\n",
       "      <td>...</td>\n",
       "      <td>...</td>\n",
       "      <td>...</td>\n",
       "      <td>...</td>\n",
       "    </tr>\n",
       "    <tr>\n",
       "      <th>49995</th>\n",
       "      <td>2.693877</td>\n",
       "      <td>-1.362685</td>\n",
       "      <td>-7.392968</td>\n",
       "      <td>683.405727</td>\n",
       "    </tr>\n",
       "    <tr>\n",
       "      <th>49996</th>\n",
       "      <td>-9.270188</td>\n",
       "      <td>-5.456920</td>\n",
       "      <td>-2.343480</td>\n",
       "      <td>-1874.385403</td>\n",
       "    </tr>\n",
       "    <tr>\n",
       "      <th>49997</th>\n",
       "      <td>6.616753</td>\n",
       "      <td>-2.847288</td>\n",
       "      <td>-0.504040</td>\n",
       "      <td>663.873655</td>\n",
       "    </tr>\n",
       "    <tr>\n",
       "      <th>49998</th>\n",
       "      <td>3.558199</td>\n",
       "      <td>4.507526</td>\n",
       "      <td>-4.823674</td>\n",
       "      <td>-421.004005</td>\n",
       "    </tr>\n",
       "    <tr>\n",
       "      <th>49999</th>\n",
       "      <td>0.623431</td>\n",
       "      <td>8.863234</td>\n",
       "      <td>-3.231040</td>\n",
       "      <td>-699.718682</td>\n",
       "    </tr>\n",
       "  </tbody>\n",
       "</table>\n",
       "<p>50000 rows × 4 columns</p>\n",
       "</div>"
      ],
      "text/plain": [
       "              X         Y         Z        label\n",
       "0      0.643715 -9.866550 -5.836019   307.972927\n",
       "1     -1.366446 -3.761945 -8.756162   136.398375\n",
       "2     -4.090270 -1.836218 -1.846066  -310.724813\n",
       "3     -8.730478 -1.923651  3.892972     1.755447\n",
       "4      5.367169  0.358357  6.703989  -343.582590\n",
       "...         ...       ...       ...          ...\n",
       "49995  2.693877 -1.362685 -7.392968   683.405727\n",
       "49996 -9.270188 -5.456920 -2.343480 -1874.385403\n",
       "49997  6.616753 -2.847288 -0.504040   663.873655\n",
       "49998  3.558199  4.507526 -4.823674  -421.004005\n",
       "49999  0.623431  8.863234 -3.231040  -699.718682\n",
       "\n",
       "[50000 rows x 4 columns]"
      ]
     },
     "execution_count": 3,
     "metadata": {},
     "output_type": "execute_result"
    }
   ],
   "source": [
    "train = train.drop(train.columns[0], axis = 1)\n",
    "train"
   ]
  },
  {
   "cell_type": "code",
   "execution_count": 4,
   "id": "fa208064",
   "metadata": {},
   "outputs": [
    {
     "data": {
      "text/html": [
       "<div>\n",
       "<style scoped>\n",
       "    .dataframe tbody tr th:only-of-type {\n",
       "        vertical-align: middle;\n",
       "    }\n",
       "\n",
       "    .dataframe tbody tr th {\n",
       "        vertical-align: top;\n",
       "    }\n",
       "\n",
       "    .dataframe thead th {\n",
       "        text-align: right;\n",
       "    }\n",
       "</style>\n",
       "<table border=\"1\" class=\"dataframe\">\n",
       "  <thead>\n",
       "    <tr style=\"text-align: right;\">\n",
       "      <th></th>\n",
       "      <th>X</th>\n",
       "      <th>Y</th>\n",
       "      <th>Z</th>\n",
       "      <th>label</th>\n",
       "    </tr>\n",
       "  </thead>\n",
       "  <tbody>\n",
       "    <tr>\n",
       "      <th>0</th>\n",
       "      <td>9.322078</td>\n",
       "      <td>0.413096</td>\n",
       "      <td>5.984731</td>\n",
       "      <td>-657.669309</td>\n",
       "    </tr>\n",
       "    <tr>\n",
       "      <th>1</th>\n",
       "      <td>2.811964</td>\n",
       "      <td>6.142752</td>\n",
       "      <td>6.419237</td>\n",
       "      <td>-545.362524</td>\n",
       "    </tr>\n",
       "    <tr>\n",
       "      <th>2</th>\n",
       "      <td>-2.669784</td>\n",
       "      <td>7.775091</td>\n",
       "      <td>-6.931907</td>\n",
       "      <td>-75.044187</td>\n",
       "    </tr>\n",
       "    <tr>\n",
       "      <th>3</th>\n",
       "      <td>-6.992156</td>\n",
       "      <td>-9.205548</td>\n",
       "      <td>0.852580</td>\n",
       "      <td>-2403.124902</td>\n",
       "    </tr>\n",
       "    <tr>\n",
       "      <th>4</th>\n",
       "      <td>1.574294</td>\n",
       "      <td>-2.213266</td>\n",
       "      <td>6.029188</td>\n",
       "      <td>8.595325</td>\n",
       "    </tr>\n",
       "    <tr>\n",
       "      <th>...</th>\n",
       "      <td>...</td>\n",
       "      <td>...</td>\n",
       "      <td>...</td>\n",
       "      <td>...</td>\n",
       "    </tr>\n",
       "    <tr>\n",
       "      <th>9995</th>\n",
       "      <td>-0.992449</td>\n",
       "      <td>-7.853677</td>\n",
       "      <td>7.748156</td>\n",
       "      <td>-635.006038</td>\n",
       "    </tr>\n",
       "    <tr>\n",
       "      <th>9996</th>\n",
       "      <td>8.574451</td>\n",
       "      <td>6.271919</td>\n",
       "      <td>-5.734962</td>\n",
       "      <td>-1275.855209</td>\n",
       "    </tr>\n",
       "    <tr>\n",
       "      <th>9997</th>\n",
       "      <td>6.640997</td>\n",
       "      <td>6.864877</td>\n",
       "      <td>4.511685</td>\n",
       "      <td>-1771.640694</td>\n",
       "    </tr>\n",
       "    <tr>\n",
       "      <th>9998</th>\n",
       "      <td>-6.262414</td>\n",
       "      <td>1.323203</td>\n",
       "      <td>-3.917748</td>\n",
       "      <td>-22.746921</td>\n",
       "    </tr>\n",
       "    <tr>\n",
       "      <th>9999</th>\n",
       "      <td>8.289792</td>\n",
       "      <td>-0.371541</td>\n",
       "      <td>2.099039</td>\n",
       "      <td>-64.853446</td>\n",
       "    </tr>\n",
       "  </tbody>\n",
       "</table>\n",
       "<p>10000 rows × 4 columns</p>\n",
       "</div>"
      ],
      "text/plain": [
       "             X         Y         Z        label\n",
       "0     9.322078  0.413096  5.984731  -657.669309\n",
       "1     2.811964  6.142752  6.419237  -545.362524\n",
       "2    -2.669784  7.775091 -6.931907   -75.044187\n",
       "3    -6.992156 -9.205548  0.852580 -2403.124902\n",
       "4     1.574294 -2.213266  6.029188     8.595325\n",
       "...        ...       ...       ...          ...\n",
       "9995 -0.992449 -7.853677  7.748156  -635.006038\n",
       "9996  8.574451  6.271919 -5.734962 -1275.855209\n",
       "9997  6.640997  6.864877  4.511685 -1771.640694\n",
       "9998 -6.262414  1.323203 -3.917748   -22.746921\n",
       "9999  8.289792 -0.371541  2.099039   -64.853446\n",
       "\n",
       "[10000 rows x 4 columns]"
      ]
     },
     "execution_count": 4,
     "metadata": {},
     "output_type": "execute_result"
    }
   ],
   "source": [
    "test = test.drop(test.columns[0], axis = 1)\n",
    "test"
   ]
  },
  {
   "cell_type": "code",
   "execution_count": 5,
   "id": "d6c3e109",
   "metadata": {},
   "outputs": [
    {
     "name": "stdout",
     "output_type": "stream",
     "text": [
      "The shape of X_train is (50000, 3)\n",
      "The shape of Y_train is (50000, 1)\n"
     ]
    }
   ],
   "source": [
    "training_data = train.values\n",
    "X_train = training_data[:, :-1]\n",
    "Y_train = training_data[:, -1].reshape(training_data.shape[0], 1)\n",
    "print(\"The shape of X_train is\", X_train.shape)\n",
    "print(\"The shape of Y_train is\", Y_train.shape)"
   ]
  },
  {
   "cell_type": "code",
   "execution_count": 6,
   "id": "d2da6888",
   "metadata": {
    "scrolled": true
   },
   "outputs": [
    {
     "name": "stdout",
     "output_type": "stream",
     "text": [
      "The shape of X_test is (10000, 3)\n",
      "The shape of Y_test is (10000, 1)\n"
     ]
    }
   ],
   "source": [
    "testing_data = test.values\n",
    "X_test = testing_data[:, :-1]\n",
    "Y_test = testing_data[:, -1].reshape(testing_data.shape[0], 1)\n",
    "print(\"The shape of X_test is\", X_test.shape)\n",
    "print(\"The shape of Y_test is\", Y_test.shape)"
   ]
  },
  {
   "cell_type": "code",
   "execution_count": 7,
   "id": "3eac5727",
   "metadata": {},
   "outputs": [],
   "source": [
    "sho = np.hsplit(X_train, 3)\n"
   ]
  },
  {
   "cell_type": "code",
   "execution_count": 8,
   "id": "c87fed96",
   "metadata": {},
   "outputs": [],
   "source": [
    "for i in range(3):\n",
    "    for j in range(i, 3):\n",
    "        X_train = np.concatenate((X_train, sho[i]*sho[j]), axis = 1)"
   ]
  },
  {
   "cell_type": "code",
   "execution_count": 9,
   "id": "b98e86ea",
   "metadata": {},
   "outputs": [],
   "source": [
    "for k in range(3):\n",
    "    for l in range(k, 3):\n",
    "        for m in range(l, 3):\n",
    "             X_train = np.concatenate((X_train, sho[k]*sho[l]*sho[m]), axis = 1)\n",
    "            "
   ]
  },
  {
   "cell_type": "code",
   "execution_count": 10,
   "id": "022c8660",
   "metadata": {},
   "outputs": [
    {
     "data": {
      "text/plain": [
       "array([[ 6.43715169e-01, -9.86655011e+00, -5.83601940e+00, ...,\n",
       "        -5.68129550e+02, -3.36046039e+02, -1.98769700e+02],\n",
       "       [-1.36644585e+00, -3.76194541e+00, -8.75616193e+00, ...,\n",
       "        -1.23919246e+02, -2.88429753e+02, -6.71338191e+02],\n",
       "       [-4.09026967e+00, -1.83621751e+00, -1.84606561e+00, ...,\n",
       "        -6.22436975e+00, -6.25775263e+00, -6.29131455e+00],\n",
       "       ...,\n",
       "       [ 6.61675320e+00, -2.84728822e+00, -5.04040015e-01, ...,\n",
       "        -4.08627772e+00, -7.23371616e-01, -1.28054560e-01],\n",
       "       [ 3.55819907e+00,  4.50752592e+00, -4.82367370e+00, ...,\n",
       "        -9.80063891e+01,  1.04880338e+02, -1.12236410e+02],\n",
       "       [ 6.23430792e-01,  8.86323404e+00, -3.23103970e+00, ...,\n",
       "        -2.53820520e+02,  9.25287736e+01, -3.37308188e+01]])"
      ]
     },
     "execution_count": 10,
     "metadata": {},
     "output_type": "execute_result"
    }
   ],
   "source": [
    "X_train"
   ]
  },
  {
   "cell_type": "code",
   "execution_count": 11,
   "id": "14f890df",
   "metadata": {},
   "outputs": [],
   "source": [
    "X_train_mean = X_train.mean(axis=0)\n",
    "X_train_mean = np.hstack(X_train_mean)\n",
    "X_train_std = X_train.std(axis=0)\n",
    "X_train_std = np.hstack(X_train_std)\n",
    "X_train_norm = (X_train - X_train_mean)/X_train_std\n"
   ]
  },
  {
   "cell_type": "code",
   "execution_count": 12,
   "id": "fea161c3",
   "metadata": {},
   "outputs": [],
   "source": [
    "sho_test = np.hsplit(X_test, 3)\n",
    "for i in range(3):\n",
    "    for j in range(i, 3):\n",
    "        X_test = np.concatenate((X_test, sho_test[i]*sho_test[j]), axis = 1)"
   ]
  },
  {
   "cell_type": "code",
   "execution_count": 14,
   "id": "e1f28f88",
   "metadata": {},
   "outputs": [],
   "source": [
    "for k in range(3):\n",
    "    for l in range(k, 3):\n",
    "        for m in range(l, 3):\n",
    "             X_test = np.concatenate((X_test, sho_test[k]*sho_test[l]*sho_test[m]), axis = 1)"
   ]
  },
  {
   "cell_type": "code",
   "execution_count": 15,
   "id": "aae236c0",
   "metadata": {},
   "outputs": [],
   "source": [
    "X_test_mean = X_test.mean(axis=0)\n",
    "X_test_mean = np.hstack(X_test_mean)\n",
    "X_test_std = X_test.std(axis=0)\n",
    "X_test_std = np.hstack(X_test_std)\n",
    "X_test_norm = (X_test - X_train_mean)/X_train_std\n"
   ]
  },
  {
   "cell_type": "code",
   "execution_count": 16,
   "id": "d1c14f04",
   "metadata": {},
   "outputs": [],
   "source": [
    "def model(X, Y, learning_rate, iteration):\n",
    "    m = Y_train.size\n",
    "    theta = np.zeros((X_train_norm.shape[1], 1))\n",
    "    for i in range(iteration):\n",
    "        \n",
    "        Y_pred = np.dot(X, theta)   # X@theta\n",
    "        \n",
    "        cost = (1/(2*m))*np.sum(np.square(Y_pred - Y_train))\n",
    "        d_theta = (1/m)*np.dot(X_train_norm.T, Y_pred - Y_train)\n",
    "        theta = theta - learning_rate*d_theta\n",
    "        \n",
    "        if(i%(iteration/10) == 0):\n",
    "            print(\"The value of our cost is: \", cost)\n",
    "    \n",
    "        plt.scatter(i, cost)\n",
    "            \n",
    "    return theta, m"
   ]
  },
  {
   "cell_type": "code",
   "execution_count": 17,
   "id": "e1a32d76",
   "metadata": {},
   "outputs": [
    {
     "name": "stdout",
     "output_type": "stream",
     "text": [
      "The value of our cost is:  727060.5592130942\n",
      "The value of our cost is:  3300.6345698155496\n",
      "The value of our cost is:  144.2141344483228\n",
      "The value of our cost is:  127.28168567539905\n",
      "The value of our cost is:  125.91076771764305\n",
      "The value of our cost is:  125.27194118738771\n",
      "The value of our cost is:  124.9461497743814\n",
      "The value of our cost is:  124.77770119350248\n",
      "The value of our cost is:  124.69003776225648\n",
      "The value of our cost is:  124.6441537499438\n"
     ]
    },
    {
     "data": {
      "image/png": "[encoded data removed]",
      "text/plain": [
       "<Figure size 432x288 with 1 Axes>"
      ]
     },
     "metadata": {
      "needs_background": "light"
     },
     "output_type": "display_data"
    }
   ],
   "source": [
    "iteration = 3000\n",
    "learning_rate = 0.009\n",
    "theta, m = model(X_train_norm, Y_train, learning_rate, iteration)"
   ]
  },
  {
   "cell_type": "code",
   "execution_count": 18,
   "id": "59604c5c",
   "metadata": {},
   "outputs": [],
   "source": [
    "Y_pred = np.dot(X_test_norm, theta)\n",
    "error = np.sqrt((1/(2*X_test_norm.shape[0]))*np.sum(np.square(Y_pred - Y_test)))"
   ]
  },
  {
   "cell_type": "code",
   "execution_count": 19,
   "id": "3883b468",
   "metadata": {},
   "outputs": [
    {
     "name": "stdout",
     "output_type": "stream",
     "text": [
      "The test error is 9.904359725030394\n"
     ]
    }
   ],
   "source": [
    "print(\"The test error is\", error)"
   ]
  },
  {
   "cell_type": "code",
   "execution_count": null,
   "id": "f29a2fbf",
   "metadata": {},
   "outputs": [],
   "source": []
  }
 ],
 "metadata": {
  "kernelspec": {
   "display_name": "Python 3 (ipykernel)",
   "language": "python",
   "name": "python3"
  },
  "language_info": {
   "codemirror_mode": {
    "name": "ipython",
    "version": 3
   },
   "file_extension": ".py",
   "mimetype": "text/x-python",
   "name": "python",
   "nbconvert_exporter": "python",
   "pygments_lexer": "ipython3",
   "version": "3.10.4"
  }
 },
 "nbformat": 4,
 "nbformat_minor": 5
}
